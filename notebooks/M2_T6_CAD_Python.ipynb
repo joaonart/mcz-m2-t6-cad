{
  "cells": [
    {
      "cell_type": "markdown",
      "metadata": {
        "id": "pqEhMdFQO3A-"
      },
      "source": [
        "<head>\n",
        "  <meta name=\"author\" content=\"João Alves\">\n",
        "  <meta institution=\"author\" content=\"Universidade Presbiteriana Mackenzie\">\n",
        "</head>\n",
        "\n",
        "<img src=\"http://meusite.mackenzie.br/rogerio/mackenzie_logo/UPM.2_horizontal_vermelho.jpg\" width=300, align=\"right\"> \n",
        "\n",
        "<h1 align=left><font size = 8, style=\"color:rgb(200,0,0)\"><b>Ciência de Dados </b></font></h1> \n",
        "<h1 align=left><font size = 5, style=\"color:rgb(0,0,0)\"><b>Coleta e Armazenamento de Dados</b></font></h1> \n",
        "\n",
        "# Trilha 6 - Tarefa de aprofundamento\n",
        "Professor: *Fabio Lopes* \n",
        "\n",
        "Aluno: *João Alves*\n",
        "<br>\n",
        "<br>\n",
        "\n",
        "---\n"
      ]
    },
    {
      "cell_type": "markdown",
      "metadata": {
        "id": "4pJask4BvIUL"
      },
      "source": [
        "# Introdução \n",
        "\n",
        "Agora já conhecemos os bancos de dados NoSQL e as suas características.\n",
        "Vamos então trabalhar estes conceitos na nossa última atividade de aprofundamento.\n",
        "Selecione um banco de dados NoSQL de sua preferência. Crie uma instância de teste e faça a inserção de dados a partir de um arquivo csv.\n",
        "Utilize a base de dados World Happiness disponível no site do Kaggle: <https://www.kaggle.com/ajaypalsinghlo/world-happiness-report-2021>\n",
        "Apresente um notebook com o código utilizado e uma evidência do cadastro realizado.\n",
        "\n",
        "Obs.: Alguns bancos de dados possuem área de sandbox disponível em nuvem. Se você tiver alguma dificuldade em baixar o banco, utilize a opção em nuvem.\n",
        "Exemplos:\n",
        "\n",
        "- https://www.mongodb.com/online\n",
        "- https://sandbox.neo4j.com/\n",
        "- https://blog.couchbase.com/nosql-proof-concept-data-creation/\n",
        "\n",
        "*Você deve encaminhar um arquivo contendo o código utilizado e a evidência de que a base de dados foi carregada no banco selecionado. Uma lista simples, apresentando algumas linhas cadastradas.*\n"
      ]
    },
    {
      "cell_type": "markdown",
      "metadata": {},
      "source": [
        "# Instalando as bibliotecas python"
      ]
    },
    {
      "cell_type": "code",
      "execution_count": 169,
      "metadata": {},
      "outputs": [
        {
          "name": "stdout",
          "output_type": "stream",
          "text": [
            "Requirement already satisfied: neo4j-driver in /Users/joaoalves/opt/anaconda3/lib/python3.9/site-packages (4.4.4)\n",
            "Requirement already satisfied: pytz in /Users/joaoalves/opt/anaconda3/lib/python3.9/site-packages (from neo4j-driver) (2022.1)\n"
          ]
        }
      ],
      "source": [
        "!pip install neo4j-driver"
      ]
    },
    {
      "cell_type": "markdown",
      "metadata": {
        "_uuid": "9dd9e07c590ca22f0c525222f60f0ebff4e092c6",
        "id": "t8jJkoVNo1sd"
      },
      "source": [
        "# Importando as bibliotecas python"
      ]
    },
    {
      "cell_type": "code",
      "execution_count": 170,
      "metadata": {
        "id": "IZxtihzaaxRZ"
      },
      "outputs": [],
      "source": [
        "import os\n",
        "import numpy as np\n",
        "import pandas as pd\n",
        "from neo4j import GraphDatabase, basic_auth"
      ]
    },
    {
      "cell_type": "markdown",
      "metadata": {},
      "source": [
        "# Lendo Variáveis de Ambiente"
      ]
    },
    {
      "cell_type": "code",
      "execution_count": 171,
      "metadata": {},
      "outputs": [],
      "source": [
        "# Neo4j Info\n",
        "neo_username = os.getenv('USERNAME')\n",
        "neo_password = os.getenv('PASSWORD')\n",
        "neo_bolt_url = os.getenv('BOLT_URL')"
      ]
    },
    {
      "cell_type": "markdown",
      "metadata": {
        "id": "4Fkyd15adsvg"
      },
      "source": [
        "## Exploração Inicial dos Dados"
      ]
    },
    {
      "cell_type": "code",
      "execution_count": 172,
      "metadata": {
        "colab": {
          "base_uri": "https://localhost:8080/",
          "height": 529
        },
        "id": "KZpsrcVZpNiB",
        "outputId": "59156dab-f232-45dd-b68d-59e06cc5d31b"
      },
      "outputs": [
        {
          "data": {
            "text/plain": [
              "(1949, 11)"
            ]
          },
          "metadata": {},
          "output_type": "display_data"
        },
        {
          "data": {
            "text/html": [
              "<div>\n",
              "<style scoped>\n",
              "    .dataframe tbody tr th:only-of-type {\n",
              "        vertical-align: middle;\n",
              "    }\n",
              "\n",
              "    .dataframe tbody tr th {\n",
              "        vertical-align: top;\n",
              "    }\n",
              "\n",
              "    .dataframe thead th {\n",
              "        text-align: right;\n",
              "    }\n",
              "</style>\n",
              "<table border=\"1\" class=\"dataframe\">\n",
              "  <thead>\n",
              "    <tr style=\"text-align: right;\">\n",
              "      <th></th>\n",
              "      <th>Country name</th>\n",
              "      <th>year</th>\n",
              "      <th>Life Ladder</th>\n",
              "      <th>Log GDP per capita</th>\n",
              "      <th>Social support</th>\n",
              "      <th>Healthy life expectancy at birth</th>\n",
              "      <th>Freedom to make life choices</th>\n",
              "      <th>Generosity</th>\n",
              "      <th>Perceptions of corruption</th>\n",
              "      <th>Positive affect</th>\n",
              "      <th>Negative affect</th>\n",
              "    </tr>\n",
              "  </thead>\n",
              "  <tbody>\n",
              "    <tr>\n",
              "      <th>0</th>\n",
              "      <td>Afghanistan</td>\n",
              "      <td>2008</td>\n",
              "      <td>3.724</td>\n",
              "      <td>7.370</td>\n",
              "      <td>0.451</td>\n",
              "      <td>50.80</td>\n",
              "      <td>0.718</td>\n",
              "      <td>0.168</td>\n",
              "      <td>0.882</td>\n",
              "      <td>0.518</td>\n",
              "      <td>0.258</td>\n",
              "    </tr>\n",
              "    <tr>\n",
              "      <th>1</th>\n",
              "      <td>Afghanistan</td>\n",
              "      <td>2009</td>\n",
              "      <td>4.402</td>\n",
              "      <td>7.540</td>\n",
              "      <td>0.552</td>\n",
              "      <td>51.20</td>\n",
              "      <td>0.679</td>\n",
              "      <td>0.190</td>\n",
              "      <td>0.850</td>\n",
              "      <td>0.584</td>\n",
              "      <td>0.237</td>\n",
              "    </tr>\n",
              "    <tr>\n",
              "      <th>2</th>\n",
              "      <td>Afghanistan</td>\n",
              "      <td>2010</td>\n",
              "      <td>4.758</td>\n",
              "      <td>7.647</td>\n",
              "      <td>0.539</td>\n",
              "      <td>51.60</td>\n",
              "      <td>0.600</td>\n",
              "      <td>0.121</td>\n",
              "      <td>0.707</td>\n",
              "      <td>0.618</td>\n",
              "      <td>0.275</td>\n",
              "    </tr>\n",
              "    <tr>\n",
              "      <th>3</th>\n",
              "      <td>Afghanistan</td>\n",
              "      <td>2011</td>\n",
              "      <td>3.832</td>\n",
              "      <td>7.620</td>\n",
              "      <td>0.521</td>\n",
              "      <td>51.92</td>\n",
              "      <td>0.496</td>\n",
              "      <td>0.162</td>\n",
              "      <td>0.731</td>\n",
              "      <td>0.611</td>\n",
              "      <td>0.267</td>\n",
              "    </tr>\n",
              "    <tr>\n",
              "      <th>4</th>\n",
              "      <td>Afghanistan</td>\n",
              "      <td>2012</td>\n",
              "      <td>3.783</td>\n",
              "      <td>7.705</td>\n",
              "      <td>0.521</td>\n",
              "      <td>52.24</td>\n",
              "      <td>0.531</td>\n",
              "      <td>0.236</td>\n",
              "      <td>0.776</td>\n",
              "      <td>0.710</td>\n",
              "      <td>0.268</td>\n",
              "    </tr>\n",
              "  </tbody>\n",
              "</table>\n",
              "</div>"
            ],
            "text/plain": [
              "  Country name  year  Life Ladder  Log GDP per capita  Social support  \\\n",
              "0  Afghanistan  2008        3.724               7.370           0.451   \n",
              "1  Afghanistan  2009        4.402               7.540           0.552   \n",
              "2  Afghanistan  2010        4.758               7.647           0.539   \n",
              "3  Afghanistan  2011        3.832               7.620           0.521   \n",
              "4  Afghanistan  2012        3.783               7.705           0.521   \n",
              "\n",
              "   Healthy life expectancy at birth  Freedom to make life choices  Generosity  \\\n",
              "0                             50.80                         0.718       0.168   \n",
              "1                             51.20                         0.679       0.190   \n",
              "2                             51.60                         0.600       0.121   \n",
              "3                             51.92                         0.496       0.162   \n",
              "4                             52.24                         0.531       0.236   \n",
              "\n",
              "   Perceptions of corruption  Positive affect  Negative affect  \n",
              "0                      0.882            0.518            0.258  \n",
              "1                      0.850            0.584            0.237  \n",
              "2                      0.707            0.618            0.275  \n",
              "3                      0.731            0.611            0.267  \n",
              "4                      0.776            0.710            0.268  "
            ]
          },
          "metadata": {},
          "output_type": "display_data"
        },
        {
          "data": {
            "text/html": [
              "<div>\n",
              "<style scoped>\n",
              "    .dataframe tbody tr th:only-of-type {\n",
              "        vertical-align: middle;\n",
              "    }\n",
              "\n",
              "    .dataframe tbody tr th {\n",
              "        vertical-align: top;\n",
              "    }\n",
              "\n",
              "    .dataframe thead th {\n",
              "        text-align: right;\n",
              "    }\n",
              "</style>\n",
              "<table border=\"1\" class=\"dataframe\">\n",
              "  <thead>\n",
              "    <tr style=\"text-align: right;\">\n",
              "      <th></th>\n",
              "      <th>Country name</th>\n",
              "      <th>year</th>\n",
              "      <th>Life Ladder</th>\n",
              "      <th>Log GDP per capita</th>\n",
              "      <th>Social support</th>\n",
              "      <th>Healthy life expectancy at birth</th>\n",
              "      <th>Freedom to make life choices</th>\n",
              "      <th>Generosity</th>\n",
              "      <th>Perceptions of corruption</th>\n",
              "      <th>Positive affect</th>\n",
              "      <th>Negative affect</th>\n",
              "    </tr>\n",
              "  </thead>\n",
              "  <tbody>\n",
              "    <tr>\n",
              "      <th>1944</th>\n",
              "      <td>Zimbabwe</td>\n",
              "      <td>2016</td>\n",
              "      <td>3.735</td>\n",
              "      <td>7.984</td>\n",
              "      <td>0.768</td>\n",
              "      <td>54.4</td>\n",
              "      <td>0.733</td>\n",
              "      <td>-0.095</td>\n",
              "      <td>0.724</td>\n",
              "      <td>0.738</td>\n",
              "      <td>0.209</td>\n",
              "    </tr>\n",
              "    <tr>\n",
              "      <th>1945</th>\n",
              "      <td>Zimbabwe</td>\n",
              "      <td>2017</td>\n",
              "      <td>3.638</td>\n",
              "      <td>8.016</td>\n",
              "      <td>0.754</td>\n",
              "      <td>55.0</td>\n",
              "      <td>0.753</td>\n",
              "      <td>-0.098</td>\n",
              "      <td>0.751</td>\n",
              "      <td>0.806</td>\n",
              "      <td>0.224</td>\n",
              "    </tr>\n",
              "    <tr>\n",
              "      <th>1946</th>\n",
              "      <td>Zimbabwe</td>\n",
              "      <td>2018</td>\n",
              "      <td>3.616</td>\n",
              "      <td>8.049</td>\n",
              "      <td>0.775</td>\n",
              "      <td>55.6</td>\n",
              "      <td>0.763</td>\n",
              "      <td>-0.068</td>\n",
              "      <td>0.844</td>\n",
              "      <td>0.710</td>\n",
              "      <td>0.212</td>\n",
              "    </tr>\n",
              "    <tr>\n",
              "      <th>1947</th>\n",
              "      <td>Zimbabwe</td>\n",
              "      <td>2019</td>\n",
              "      <td>2.694</td>\n",
              "      <td>7.950</td>\n",
              "      <td>0.759</td>\n",
              "      <td>56.2</td>\n",
              "      <td>0.632</td>\n",
              "      <td>-0.064</td>\n",
              "      <td>0.831</td>\n",
              "      <td>0.716</td>\n",
              "      <td>0.235</td>\n",
              "    </tr>\n",
              "    <tr>\n",
              "      <th>1948</th>\n",
              "      <td>Zimbabwe</td>\n",
              "      <td>2020</td>\n",
              "      <td>3.160</td>\n",
              "      <td>7.829</td>\n",
              "      <td>0.717</td>\n",
              "      <td>56.8</td>\n",
              "      <td>0.643</td>\n",
              "      <td>-0.009</td>\n",
              "      <td>0.789</td>\n",
              "      <td>0.703</td>\n",
              "      <td>0.346</td>\n",
              "    </tr>\n",
              "  </tbody>\n",
              "</table>\n",
              "</div>"
            ],
            "text/plain": [
              "     Country name  year  Life Ladder  Log GDP per capita  Social support  \\\n",
              "1944     Zimbabwe  2016        3.735               7.984           0.768   \n",
              "1945     Zimbabwe  2017        3.638               8.016           0.754   \n",
              "1946     Zimbabwe  2018        3.616               8.049           0.775   \n",
              "1947     Zimbabwe  2019        2.694               7.950           0.759   \n",
              "1948     Zimbabwe  2020        3.160               7.829           0.717   \n",
              "\n",
              "      Healthy life expectancy at birth  Freedom to make life choices  \\\n",
              "1944                              54.4                         0.733   \n",
              "1945                              55.0                         0.753   \n",
              "1946                              55.6                         0.763   \n",
              "1947                              56.2                         0.632   \n",
              "1948                              56.8                         0.643   \n",
              "\n",
              "      Generosity  Perceptions of corruption  Positive affect  Negative affect  \n",
              "1944      -0.095                      0.724            0.738            0.209  \n",
              "1945      -0.098                      0.751            0.806            0.224  \n",
              "1946      -0.068                      0.844            0.710            0.212  \n",
              "1947      -0.064                      0.831            0.716            0.235  \n",
              "1948      -0.009                      0.789            0.703            0.346  "
            ]
          },
          "metadata": {},
          "output_type": "display_data"
        }
      ],
      "source": [
        "df_happiness = pd.read_csv('../data/world-happiness-report.csv')\n",
        "\n",
        "display(df_happiness.shape)\n",
        "display(df_happiness.head())\n",
        "display(df_happiness.tail())"
      ]
    },
    {
      "cell_type": "markdown",
      "metadata": {},
      "source": [
        "# Configurando a Conexão com o Banco de Dados (Neo4j)"
      ]
    },
    {
      "cell_type": "code",
      "execution_count": 173,
      "metadata": {},
      "outputs": [],
      "source": [
        "driver = GraphDatabase.driver(\n",
        "  neo_bolt_url,\n",
        "  auth=basic_auth(neo_username, neo_password))"
      ]
    },
    {
      "cell_type": "markdown",
      "metadata": {},
      "source": [
        "# Criando Funções Para Executar as Queries no Banco de Dados"
      ]
    },
    {
      "cell_type": "code",
      "execution_count": 176,
      "metadata": {},
      "outputs": [],
      "source": [
        "def data_query_read(cypher_query):\n",
        "    with driver.session(database=\"neo4j\") as session:\n",
        "        results = session.read_transaction(\n",
        "            lambda tx: tx.run(cypher_query).data())\n",
        "\n",
        "    driver.close()\n",
        "    return results"
      ]
    },
    {
      "cell_type": "code",
      "execution_count": 177,
      "metadata": {},
      "outputs": [],
      "source": [
        "def data_query_write(cypher_query):\n",
        "    with driver.session(database=\"neo4j\") as session:\n",
        "        results = session.write_transaction(\n",
        "            lambda tx: tx.run(cypher_query).data())\n",
        "\n",
        "    driver.close()\n",
        "    return results"
      ]
    },
    {
      "cell_type": "markdown",
      "metadata": {},
      "source": [
        "# Executando Query de Leitura para Testar a Comunicação com o Banco de Dados"
      ]
    },
    {
      "cell_type": "code",
      "execution_count": 178,
      "metadata": {},
      "outputs": [
        {
          "name": "stdout",
          "output_type": "stream",
          "text": [
            "0\n"
          ]
        }
      ],
      "source": [
        "# Conta o total de registros que existem no banco de dados\n",
        "cypher_query = '''\n",
        "MATCH (n)\n",
        "RETURN COUNT(n) AS count\n",
        "LIMIT 10\n",
        "'''\n",
        "\n",
        "results = data_query_read(cypher_query)\n",
        "for record in results:\n",
        "        print(record['count'])"
      ]
    },
    {
      "cell_type": "markdown",
      "metadata": {},
      "source": [
        "# Executando Query de Escrita para Testar a Comunicação com o Banco de Dados"
      ]
    },
    {
      "cell_type": "code",
      "execution_count": null,
      "metadata": {},
      "outputs": [],
      "source": [
        "# Cria registro teste\n",
        "cypher_query = '''\n",
        "CREATE (p:Person {name: 'John Doe', age: 30}) \n",
        "RETURN p\n",
        "'''\n",
        "\n",
        "results = data_query_write(cypher_query)\n",
        "for record in results:\n",
        "        print(record)"
      ]
    },
    {
      "cell_type": "code",
      "execution_count": null,
      "metadata": {},
      "outputs": [],
      "source": [
        "# Exclui o registro teste\n",
        "cypher_query = '''\n",
        "MATCH (p:Person {name: 'John Doe', age: 30}) \n",
        "DELETE p\n",
        "'''\n",
        "\n",
        "results = data_query_write(cypher_query)\n",
        "for record in results:\n",
        "        print(record)"
      ]
    },
    {
      "cell_type": "code",
      "execution_count": null,
      "metadata": {},
      "outputs": [],
      "source": [
        "# Exclui todos os nodes do banco de dados\n",
        "cypher_query = '''\n",
        "MATCH (n) \n",
        "DELETE n\n",
        "'''\n",
        "\n",
        "results = data_query_write(cypher_query)\n",
        "for record in results:\n",
        "        print(record)"
      ]
    },
    {
      "cell_type": "markdown",
      "metadata": {},
      "source": [
        "# Função Que Trata os Valores Nulos"
      ]
    },
    {
      "cell_type": "code",
      "execution_count": 179,
      "metadata": {},
      "outputs": [],
      "source": [
        "def convert_nan(value):\n",
        "    if pd.isna(value):\n",
        "        return 0\n",
        "    return value"
      ]
    },
    {
      "cell_type": "markdown",
      "metadata": {},
      "source": [
        "# Função Que Formata a String para a Query de Inserção de Registro"
      ]
    },
    {
      "cell_type": "code",
      "execution_count": 181,
      "metadata": {},
      "outputs": [],
      "source": [
        "def format_cypher(row):\n",
        "    format_row = f'''\n",
        "        (:Happiness {{\n",
        "         country_name: '{convert_nan(row['Country name'])}',\n",
        "         year: {convert_nan(row['year'])},\n",
        "         life_ladder: {convert_nan(row['Life Ladder'])},\n",
        "         log_gdp_per_capita: {convert_nan(row['Log GDP per capita'])},\n",
        "         social_support: {convert_nan(row['Social support'])},\n",
        "         healthy_life_expectancy_at_birth: {convert_nan(row['Healthy life expectancy at birth'])},\n",
        "         freedom_to_make_life_choices: {convert_nan(row['Freedom to make life choices'])},\n",
        "         generosity: {convert_nan(row['Generosity'])},\n",
        "         perceptions_of_corruption: {convert_nan(row['Perceptions of corruption'])},\n",
        "         positive_affect: {convert_nan(row['Positive affect'])},\n",
        "         negative_affect: {convert_nan(row['Negative affect'])}\n",
        "      }})\n",
        "      '''\n",
        "    return format_row"
      ]
    },
    {
      "cell_type": "markdown",
      "metadata": {},
      "source": [
        "# Importando os Dados do Arquivo CSV no Banco de Dados "
      ]
    },
    {
      "cell_type": "code",
      "execution_count": null,
      "metadata": {},
      "outputs": [],
      "source": [
        "step = 50 # Quantidade de registros que será gravado no banco de dados a cada chamada (batch input)\n",
        "total = len(df_happiness.index)\n",
        "\n",
        "for cont in range(0, total, step):\n",
        "   \n",
        "   df_happiness_sub = df_happiness.iloc[cont:cont + step]\n",
        "   \n",
        "   # Apresenta indicadores do processamento\n",
        "   print(f'''\n",
        "   start-index: {cont}\n",
        "   end-index: {cont + step}\n",
        "   total-registros-sub: {len(df_happiness_sub)}\n",
        "   total-registros-csv: {total}\n",
        "   ''')\n",
        "\n",
        "   cypher_rows = ''\n",
        "   cont2 = 1\n",
        "\n",
        "   # Formata as linhas no padrão cypher\n",
        "   for index, row in df_happiness_sub.iterrows():\n",
        "      \n",
        "      # Tratativa para incluir a virgula ao final de cada registro\n",
        "      if cont2 < len(df_happiness_sub):\n",
        "         cypher_rows += f'{format_cypher(row)},'\n",
        "      else:\n",
        "         cypher_rows += f'{format_cypher(row)}'\n",
        "      \n",
        "      cont2 += 1\n",
        "\n",
        "   # Formata a query de inserção de registros\n",
        "   cypher_query = f'''\n",
        "   CREATE {cypher_rows}\n",
        "   '''\n",
        "\n",
        "   #print(cypher_query)\n",
        "\n",
        "   # Realiza inserção dos registros no banco de dados\n",
        "   results = data_query_write(cypher_query)\n",
        "   # for record in results:\n",
        "   #    print(record)"
      ]
    },
    {
      "cell_type": "markdown",
      "metadata": {},
      "source": [
        "# Consultando a Quantidade de Registros que Foram Importados no Banco de Dados"
      ]
    },
    {
      "cell_type": "code",
      "execution_count": 182,
      "metadata": {},
      "outputs": [
        {
          "name": "stdout",
          "output_type": "stream",
          "text": [
            "0\n"
          ]
        }
      ],
      "source": [
        "cypher_query = '''\n",
        "MATCH (n)\n",
        "RETURN COUNT(n) AS count\n",
        "'''\n",
        "\n",
        "results = data_query_read(cypher_query)\n",
        "for record in results:\n",
        "        print(record['count'])"
      ]
    }
  ],
  "metadata": {
    "celltoolbar": "Edit Metadata",
    "colab": {
      "collapsed_sections": [],
      "name": "PL_Python_4.ipynb",
      "provenance": []
    },
    "interpreter": {
      "hash": "70d1a5962a0e28f147db1e2bbfb693e8a0238b64f5d898ce29ee642d18a27e2c"
    },
    "kernelspec": {
      "display_name": "Python 3.9.12 ('base')",
      "language": "python",
      "name": "python3"
    },
    "language_info": {
      "codemirror_mode": {
        "name": "ipython",
        "version": 3
      },
      "file_extension": ".py",
      "mimetype": "text/x-python",
      "name": "python",
      "nbconvert_exporter": "python",
      "pygments_lexer": "ipython3",
      "version": "3.9.12"
    }
  },
  "nbformat": 4,
  "nbformat_minor": 0
}

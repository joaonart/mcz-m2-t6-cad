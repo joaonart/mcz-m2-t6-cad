{
  "cells": [
    {
      "cell_type": "markdown",
      "metadata": {
        "id": "pqEhMdFQO3A-"
      },
      "source": [
        "<head>\n",
        "  <meta name=\"author\" content=\"João Alves\">\n",
        "  <meta institution=\"author\" content=\"Universidade Presbiteriana Mackenzie\">\n",
        "</head>\n",
        "\n",
        "<img src=\"http://meusite.mackenzie.br/rogerio/mackenzie_logo/UPM.2_horizontal_vermelho.jpg\" width=300, align=\"right\"> \n",
        "\n",
        "<h1 align=left><font size = 8, style=\"color:rgb(200,0,0)\"><b>Ciência de Dados </b></font></h1> \n",
        "<h1 align=left><font size = 5, style=\"color:rgb(0,0,0)\"><b>Coleta e Armazenamento de Dados</b></font></h1> \n",
        "\n",
        "# Trilha 6 - Tarefa de aprofundamento\n",
        "Professor: *Fabio Lopes* \n",
        "\n",
        "Aluno: *João Alves*\n",
        "<br>\n",
        "<br>\n",
        "\n",
        "---\n"
      ]
    },
    {
      "cell_type": "markdown",
      "metadata": {
        "id": "4pJask4BvIUL"
      },
      "source": [
        "# Introdução \n",
        "\n",
        "Agora já conhecemos os bancos de dados NoSQL e as suas características.\n",
        "Vamos então trabalhar estes conceitos na nossa última atividade de aprofundamento.\n",
        "Selecione um banco de dados NoSQL de sua preferência. Crie uma instância de teste e faça a inserção de dados a partir de um arquivo csv.\n",
        "Utilize a base de dados World Happiness disponível no site do Kaggle: <https://www.kaggle.com/ajaypalsinghlo/world-happiness-report-2021>\n",
        "Apresente um notebook com o código utilizado e uma evidência do cadastro realizado.\n",
        "\n",
        "Obs.: Alguns bancos de dados possuem área de sandbox disponível em nuvem. Se você tiver alguma dificuldade em baixar o banco, utilize a opção em nuvem.\n",
        "Exemplos:\n",
        "\n",
        "- https://www.mongodb.com/online\n",
        "- https://sandbox.neo4j.com/\n",
        "- https://blog.couchbase.com/nosql-proof-concept-data-creation/\n",
        "\n",
        "*Você deve encaminhar um arquivo contendo o código utilizado e a evidência de que a base de dados foi carregada no banco selecionado. Uma lista simples, apresentando algumas linhas cadastradas.*\n"
      ]
    },
    {
      "cell_type": "markdown",
      "metadata": {},
      "source": [
        "# Instalando as bibliotecas python"
      ]
    },
    {
      "cell_type": "code",
      "execution_count": 183,
      "metadata": {},
      "outputs": [
        {
          "name": "stdout",
          "output_type": "stream",
          "text": [
            "Requirement already satisfied: neo4j-driver in /Users/joaoalves/opt/anaconda3/lib/python3.9/site-packages (4.4.4)\n",
            "Requirement already satisfied: pytz in /Users/joaoalves/opt/anaconda3/lib/python3.9/site-packages (from neo4j-driver) (2022.1)\n"
          ]
        }
      ],
      "source": [
        "!pip install neo4j-driver"
      ]
    },
    {
      "cell_type": "markdown",
      "metadata": {
        "_uuid": "9dd9e07c590ca22f0c525222f60f0ebff4e092c6",
        "id": "t8jJkoVNo1sd"
      },
      "source": [
        "# Importando as bibliotecas python"
      ]
    },
    {
      "cell_type": "code",
      "execution_count": 184,
      "metadata": {
        "id": "IZxtihzaaxRZ"
      },
      "outputs": [],
      "source": [
        "import os\n",
        "import numpy as np\n",
        "import pandas as pd\n",
        "from neo4j import GraphDatabase, basic_auth"
      ]
    },
    {
      "cell_type": "markdown",
      "metadata": {},
      "source": [
        "# Lendo Variáveis de Ambiente"
      ]
    },
    {
      "cell_type": "code",
      "execution_count": 185,
      "metadata": {},
      "outputs": [],
      "source": [
        "# Neo4j Info\n",
        "neo_username = os.getenv('USERNAME')\n",
        "neo_password = os.getenv('PASSWORD')\n",
        "neo_bolt_url = os.getenv('BOLT_URL')"
      ]
    },
    {
      "cell_type": "markdown",
      "metadata": {
        "id": "4Fkyd15adsvg"
      },
      "source": [
        "## Exploração Inicial dos Dados"
      ]
    },
    {
      "cell_type": "code",
      "execution_count": 186,
      "metadata": {
        "colab": {
          "base_uri": "https://localhost:8080/",
          "height": 529
        },
        "id": "KZpsrcVZpNiB",
        "outputId": "59156dab-f232-45dd-b68d-59e06cc5d31b"
      },
      "outputs": [
        {
          "data": {
            "text/plain": [
              "(1949, 11)"
            ]
          },
          "metadata": {},
          "output_type": "display_data"
        },
        {
          "data": {
            "text/html": [
              "<div>\n",
              "<style scoped>\n",
              "    .dataframe tbody tr th:only-of-type {\n",
              "        vertical-align: middle;\n",
              "    }\n",
              "\n",
              "    .dataframe tbody tr th {\n",
              "        vertical-align: top;\n",
              "    }\n",
              "\n",
              "    .dataframe thead th {\n",
              "        text-align: right;\n",
              "    }\n",
              "</style>\n",
              "<table border=\"1\" class=\"dataframe\">\n",
              "  <thead>\n",
              "    <tr style=\"text-align: right;\">\n",
              "      <th></th>\n",
              "      <th>Country name</th>\n",
              "      <th>year</th>\n",
              "      <th>Life Ladder</th>\n",
              "      <th>Log GDP per capita</th>\n",
              "      <th>Social support</th>\n",
              "      <th>Healthy life expectancy at birth</th>\n",
              "      <th>Freedom to make life choices</th>\n",
              "      <th>Generosity</th>\n",
              "      <th>Perceptions of corruption</th>\n",
              "      <th>Positive affect</th>\n",
              "      <th>Negative affect</th>\n",
              "    </tr>\n",
              "  </thead>\n",
              "  <tbody>\n",
              "    <tr>\n",
              "      <th>0</th>\n",
              "      <td>Afghanistan</td>\n",
              "      <td>2008</td>\n",
              "      <td>3.724</td>\n",
              "      <td>7.370</td>\n",
              "      <td>0.451</td>\n",
              "      <td>50.80</td>\n",
              "      <td>0.718</td>\n",
              "      <td>0.168</td>\n",
              "      <td>0.882</td>\n",
              "      <td>0.518</td>\n",
              "      <td>0.258</td>\n",
              "    </tr>\n",
              "    <tr>\n",
              "      <th>1</th>\n",
              "      <td>Afghanistan</td>\n",
              "      <td>2009</td>\n",
              "      <td>4.402</td>\n",
              "      <td>7.540</td>\n",
              "      <td>0.552</td>\n",
              "      <td>51.20</td>\n",
              "      <td>0.679</td>\n",
              "      <td>0.190</td>\n",
              "      <td>0.850</td>\n",
              "      <td>0.584</td>\n",
              "      <td>0.237</td>\n",
              "    </tr>\n",
              "    <tr>\n",
              "      <th>2</th>\n",
              "      <td>Afghanistan</td>\n",
              "      <td>2010</td>\n",
              "      <td>4.758</td>\n",
              "      <td>7.647</td>\n",
              "      <td>0.539</td>\n",
              "      <td>51.60</td>\n",
              "      <td>0.600</td>\n",
              "      <td>0.121</td>\n",
              "      <td>0.707</td>\n",
              "      <td>0.618</td>\n",
              "      <td>0.275</td>\n",
              "    </tr>\n",
              "    <tr>\n",
              "      <th>3</th>\n",
              "      <td>Afghanistan</td>\n",
              "      <td>2011</td>\n",
              "      <td>3.832</td>\n",
              "      <td>7.620</td>\n",
              "      <td>0.521</td>\n",
              "      <td>51.92</td>\n",
              "      <td>0.496</td>\n",
              "      <td>0.162</td>\n",
              "      <td>0.731</td>\n",
              "      <td>0.611</td>\n",
              "      <td>0.267</td>\n",
              "    </tr>\n",
              "    <tr>\n",
              "      <th>4</th>\n",
              "      <td>Afghanistan</td>\n",
              "      <td>2012</td>\n",
              "      <td>3.783</td>\n",
              "      <td>7.705</td>\n",
              "      <td>0.521</td>\n",
              "      <td>52.24</td>\n",
              "      <td>0.531</td>\n",
              "      <td>0.236</td>\n",
              "      <td>0.776</td>\n",
              "      <td>0.710</td>\n",
              "      <td>0.268</td>\n",
              "    </tr>\n",
              "  </tbody>\n",
              "</table>\n",
              "</div>"
            ],
            "text/plain": [
              "  Country name  year  Life Ladder  Log GDP per capita  Social support  \\\n",
              "0  Afghanistan  2008        3.724               7.370           0.451   \n",
              "1  Afghanistan  2009        4.402               7.540           0.552   \n",
              "2  Afghanistan  2010        4.758               7.647           0.539   \n",
              "3  Afghanistan  2011        3.832               7.620           0.521   \n",
              "4  Afghanistan  2012        3.783               7.705           0.521   \n",
              "\n",
              "   Healthy life expectancy at birth  Freedom to make life choices  Generosity  \\\n",
              "0                             50.80                         0.718       0.168   \n",
              "1                             51.20                         0.679       0.190   \n",
              "2                             51.60                         0.600       0.121   \n",
              "3                             51.92                         0.496       0.162   \n",
              "4                             52.24                         0.531       0.236   \n",
              "\n",
              "   Perceptions of corruption  Positive affect  Negative affect  \n",
              "0                      0.882            0.518            0.258  \n",
              "1                      0.850            0.584            0.237  \n",
              "2                      0.707            0.618            0.275  \n",
              "3                      0.731            0.611            0.267  \n",
              "4                      0.776            0.710            0.268  "
            ]
          },
          "metadata": {},
          "output_type": "display_data"
        },
        {
          "data": {
            "text/html": [
              "<div>\n",
              "<style scoped>\n",
              "    .dataframe tbody tr th:only-of-type {\n",
              "        vertical-align: middle;\n",
              "    }\n",
              "\n",
              "    .dataframe tbody tr th {\n",
              "        vertical-align: top;\n",
              "    }\n",
              "\n",
              "    .dataframe thead th {\n",
              "        text-align: right;\n",
              "    }\n",
              "</style>\n",
              "<table border=\"1\" class=\"dataframe\">\n",
              "  <thead>\n",
              "    <tr style=\"text-align: right;\">\n",
              "      <th></th>\n",
              "      <th>Country name</th>\n",
              "      <th>year</th>\n",
              "      <th>Life Ladder</th>\n",
              "      <th>Log GDP per capita</th>\n",
              "      <th>Social support</th>\n",
              "      <th>Healthy life expectancy at birth</th>\n",
              "      <th>Freedom to make life choices</th>\n",
              "      <th>Generosity</th>\n",
              "      <th>Perceptions of corruption</th>\n",
              "      <th>Positive affect</th>\n",
              "      <th>Negative affect</th>\n",
              "    </tr>\n",
              "  </thead>\n",
              "  <tbody>\n",
              "    <tr>\n",
              "      <th>1944</th>\n",
              "      <td>Zimbabwe</td>\n",
              "      <td>2016</td>\n",
              "      <td>3.735</td>\n",
              "      <td>7.984</td>\n",
              "      <td>0.768</td>\n",
              "      <td>54.4</td>\n",
              "      <td>0.733</td>\n",
              "      <td>-0.095</td>\n",
              "      <td>0.724</td>\n",
              "      <td>0.738</td>\n",
              "      <td>0.209</td>\n",
              "    </tr>\n",
              "    <tr>\n",
              "      <th>1945</th>\n",
              "      <td>Zimbabwe</td>\n",
              "      <td>2017</td>\n",
              "      <td>3.638</td>\n",
              "      <td>8.016</td>\n",
              "      <td>0.754</td>\n",
              "      <td>55.0</td>\n",
              "      <td>0.753</td>\n",
              "      <td>-0.098</td>\n",
              "      <td>0.751</td>\n",
              "      <td>0.806</td>\n",
              "      <td>0.224</td>\n",
              "    </tr>\n",
              "    <tr>\n",
              "      <th>1946</th>\n",
              "      <td>Zimbabwe</td>\n",
              "      <td>2018</td>\n",
              "      <td>3.616</td>\n",
              "      <td>8.049</td>\n",
              "      <td>0.775</td>\n",
              "      <td>55.6</td>\n",
              "      <td>0.763</td>\n",
              "      <td>-0.068</td>\n",
              "      <td>0.844</td>\n",
              "      <td>0.710</td>\n",
              "      <td>0.212</td>\n",
              "    </tr>\n",
              "    <tr>\n",
              "      <th>1947</th>\n",
              "      <td>Zimbabwe</td>\n",
              "      <td>2019</td>\n",
              "      <td>2.694</td>\n",
              "      <td>7.950</td>\n",
              "      <td>0.759</td>\n",
              "      <td>56.2</td>\n",
              "      <td>0.632</td>\n",
              "      <td>-0.064</td>\n",
              "      <td>0.831</td>\n",
              "      <td>0.716</td>\n",
              "      <td>0.235</td>\n",
              "    </tr>\n",
              "    <tr>\n",
              "      <th>1948</th>\n",
              "      <td>Zimbabwe</td>\n",
              "      <td>2020</td>\n",
              "      <td>3.160</td>\n",
              "      <td>7.829</td>\n",
              "      <td>0.717</td>\n",
              "      <td>56.8</td>\n",
              "      <td>0.643</td>\n",
              "      <td>-0.009</td>\n",
              "      <td>0.789</td>\n",
              "      <td>0.703</td>\n",
              "      <td>0.346</td>\n",
              "    </tr>\n",
              "  </tbody>\n",
              "</table>\n",
              "</div>"
            ],
            "text/plain": [
              "     Country name  year  Life Ladder  Log GDP per capita  Social support  \\\n",
              "1944     Zimbabwe  2016        3.735               7.984           0.768   \n",
              "1945     Zimbabwe  2017        3.638               8.016           0.754   \n",
              "1946     Zimbabwe  2018        3.616               8.049           0.775   \n",
              "1947     Zimbabwe  2019        2.694               7.950           0.759   \n",
              "1948     Zimbabwe  2020        3.160               7.829           0.717   \n",
              "\n",
              "      Healthy life expectancy at birth  Freedom to make life choices  \\\n",
              "1944                              54.4                         0.733   \n",
              "1945                              55.0                         0.753   \n",
              "1946                              55.6                         0.763   \n",
              "1947                              56.2                         0.632   \n",
              "1948                              56.8                         0.643   \n",
              "\n",
              "      Generosity  Perceptions of corruption  Positive affect  Negative affect  \n",
              "1944      -0.095                      0.724            0.738            0.209  \n",
              "1945      -0.098                      0.751            0.806            0.224  \n",
              "1946      -0.068                      0.844            0.710            0.212  \n",
              "1947      -0.064                      0.831            0.716            0.235  \n",
              "1948      -0.009                      0.789            0.703            0.346  "
            ]
          },
          "metadata": {},
          "output_type": "display_data"
        }
      ],
      "source": [
        "df_happiness = pd.read_csv('../data/world-happiness-report.csv')\n",
        "\n",
        "display(df_happiness.shape)\n",
        "display(df_happiness.head())\n",
        "display(df_happiness.tail())"
      ]
    },
    {
      "cell_type": "markdown",
      "metadata": {},
      "source": [
        "# Configurando a Conexão com o Banco de Dados (Neo4j)"
      ]
    },
    {
      "cell_type": "code",
      "execution_count": 187,
      "metadata": {},
      "outputs": [],
      "source": [
        "driver = GraphDatabase.driver(\n",
        "  neo_bolt_url,\n",
        "  auth=basic_auth(neo_username, neo_password))"
      ]
    },
    {
      "cell_type": "markdown",
      "metadata": {},
      "source": [
        "# Criando Funções Para Executar as Queries no Banco de Dados"
      ]
    },
    {
      "cell_type": "code",
      "execution_count": 188,
      "metadata": {},
      "outputs": [],
      "source": [
        "def data_query_read(cypher_query):\n",
        "    with driver.session(database=\"neo4j\") as session:\n",
        "        results = session.read_transaction(\n",
        "            lambda tx: tx.run(cypher_query).data())\n",
        "\n",
        "    driver.close()\n",
        "    return results"
      ]
    },
    {
      "cell_type": "code",
      "execution_count": 189,
      "metadata": {},
      "outputs": [],
      "source": [
        "def data_query_write(cypher_query):\n",
        "    with driver.session(database=\"neo4j\") as session:\n",
        "        results = session.write_transaction(\n",
        "            lambda tx: tx.run(cypher_query).data())\n",
        "\n",
        "    driver.close()\n",
        "    return results"
      ]
    },
    {
      "cell_type": "markdown",
      "metadata": {},
      "source": [
        "# Executando Query de Leitura para Testar a Comunicação com o Banco de Dados"
      ]
    },
    {
      "cell_type": "code",
      "execution_count": 190,
      "metadata": {},
      "outputs": [
        {
          "name": "stdout",
          "output_type": "stream",
          "text": [
            "0\n"
          ]
        }
      ],
      "source": [
        "# Conta o total de registros que existem no banco de dados\n",
        "cypher_query = '''\n",
        "MATCH (n)\n",
        "RETURN COUNT(n) AS count\n",
        "LIMIT 10\n",
        "'''\n",
        "\n",
        "results = data_query_read(cypher_query)\n",
        "for record in results:\n",
        "        print(record['count'])"
      ]
    },
    {
      "cell_type": "markdown",
      "metadata": {},
      "source": [
        "# Executando Query de Escrita para Testar a Comunicação com o Banco de Dados"
      ]
    },
    {
      "cell_type": "code",
      "execution_count": 191,
      "metadata": {},
      "outputs": [
        {
          "name": "stdout",
          "output_type": "stream",
          "text": [
            "{'p': {'name': 'John Doe', 'age': 30}}\n"
          ]
        }
      ],
      "source": [
        "# Cria registro teste\n",
        "cypher_query = '''\n",
        "CREATE (p:Person {name: 'John Doe', age: 30}) \n",
        "RETURN p\n",
        "'''\n",
        "\n",
        "results = data_query_write(cypher_query)\n",
        "for record in results:\n",
        "        print(record)"
      ]
    },
    {
      "cell_type": "code",
      "execution_count": 192,
      "metadata": {},
      "outputs": [],
      "source": [
        "# Exclui o registro teste\n",
        "cypher_query = '''\n",
        "MATCH (p:Person {name: 'John Doe', age: 30}) \n",
        "DELETE p\n",
        "'''\n",
        "\n",
        "results = data_query_write(cypher_query)\n",
        "for record in results:\n",
        "        print(record)"
      ]
    },
    {
      "cell_type": "code",
      "execution_count": 193,
      "metadata": {},
      "outputs": [],
      "source": [
        "# Exclui todos os nodes do banco de dados\n",
        "cypher_query = '''\n",
        "MATCH (n) \n",
        "DELETE n\n",
        "'''\n",
        "\n",
        "results = data_query_write(cypher_query)\n",
        "for record in results:\n",
        "        print(record)"
      ]
    },
    {
      "cell_type": "markdown",
      "metadata": {},
      "source": [
        "# Função Que Trata os Valores Nulos"
      ]
    },
    {
      "cell_type": "code",
      "execution_count": 194,
      "metadata": {},
      "outputs": [],
      "source": [
        "def convert_nan(value):\n",
        "    if pd.isna(value):\n",
        "        return 0\n",
        "    return value"
      ]
    },
    {
      "cell_type": "markdown",
      "metadata": {},
      "source": [
        "# Função Que Formata a String para a Query de Inserção de Registro"
      ]
    },
    {
      "cell_type": "code",
      "execution_count": 195,
      "metadata": {},
      "outputs": [],
      "source": [
        "def format_cypher(row):\n",
        "    format_row = f'''\n",
        "        (:Happiness {{\n",
        "         country_name: '{convert_nan(row['Country name'])}',\n",
        "         year: {convert_nan(row['year'])},\n",
        "         life_ladder: {convert_nan(row['Life Ladder'])},\n",
        "         log_gdp_per_capita: {convert_nan(row['Log GDP per capita'])},\n",
        "         social_support: {convert_nan(row['Social support'])},\n",
        "         healthy_life_expectancy_at_birth: {convert_nan(row['Healthy life expectancy at birth'])},\n",
        "         freedom_to_make_life_choices: {convert_nan(row['Freedom to make life choices'])},\n",
        "         generosity: {convert_nan(row['Generosity'])},\n",
        "         perceptions_of_corruption: {convert_nan(row['Perceptions of corruption'])},\n",
        "         positive_affect: {convert_nan(row['Positive affect'])},\n",
        "         negative_affect: {convert_nan(row['Negative affect'])}\n",
        "      }})\n",
        "      '''\n",
        "    return format_row"
      ]
    },
    {
      "cell_type": "markdown",
      "metadata": {},
      "source": [
        "# Importando os Dados do Arquivo CSV no Banco de Dados "
      ]
    },
    {
      "cell_type": "code",
      "execution_count": 197,
      "metadata": {},
      "outputs": [],
      "source": [
        "# Cria sub dataframe com os primeiros 500 registros do dataframe principal para fins didáticos\n",
        "df_happiness_sub = df_happiness.iloc[0:500]"
      ]
    },
    {
      "cell_type": "code",
      "execution_count": 198,
      "metadata": {},
      "outputs": [
        {
          "name": "stdout",
          "output_type": "stream",
          "text": [
            "\n",
            "   start-index: 0\n",
            "   end-index: 50\n",
            "   total-registros-sub: 50\n",
            "   total-registros-csv: 500\n",
            "   \n",
            "\n",
            "   start-index: 50\n",
            "   end-index: 100\n",
            "   total-registros-sub: 50\n",
            "   total-registros-csv: 500\n",
            "   \n",
            "\n",
            "   start-index: 100\n",
            "   end-index: 150\n",
            "   total-registros-sub: 50\n",
            "   total-registros-csv: 500\n",
            "   \n",
            "\n",
            "   start-index: 150\n",
            "   end-index: 200\n",
            "   total-registros-sub: 50\n",
            "   total-registros-csv: 500\n",
            "   \n",
            "\n",
            "   start-index: 200\n",
            "   end-index: 250\n",
            "   total-registros-sub: 50\n",
            "   total-registros-csv: 500\n",
            "   \n",
            "\n",
            "   start-index: 250\n",
            "   end-index: 300\n",
            "   total-registros-sub: 50\n",
            "   total-registros-csv: 500\n",
            "   \n",
            "\n",
            "   start-index: 300\n",
            "   end-index: 350\n",
            "   total-registros-sub: 50\n",
            "   total-registros-csv: 500\n",
            "   \n",
            "\n",
            "   start-index: 350\n",
            "   end-index: 400\n",
            "   total-registros-sub: 50\n",
            "   total-registros-csv: 500\n",
            "   \n",
            "\n",
            "   start-index: 400\n",
            "   end-index: 450\n",
            "   total-registros-sub: 50\n",
            "   total-registros-csv: 500\n",
            "   \n",
            "\n",
            "   start-index: 450\n",
            "   end-index: 500\n",
            "   total-registros-sub: 50\n",
            "   total-registros-csv: 500\n",
            "   \n"
          ]
        }
      ],
      "source": [
        "step = 50 # Quantidade de registros que será gravado no banco de dados a cada chamada (batch input)\n",
        "total = len(df_happiness_sub.index)\n",
        "\n",
        "for cont in range(0, total, step):\n",
        "   \n",
        "   df_happiness_sub_part = df_happiness_sub.iloc[cont:cont + step]\n",
        "   \n",
        "   # Apresenta indicadores do processamento\n",
        "   print(f'''\n",
        "   start-index: {cont}\n",
        "   end-index: {cont + step}\n",
        "   total-registros-sub: {len(df_happiness_sub_part)}\n",
        "   total-registros-csv: {total}\n",
        "   ''')\n",
        "\n",
        "   cypher_rows = ''\n",
        "   cont2 = 1\n",
        "\n",
        "   # Formata as linhas no padrão cypher\n",
        "   for index, row in df_happiness_sub_part.iterrows():\n",
        "      \n",
        "      # Tratativa para incluir a virgula ao final de cada registro\n",
        "      if cont2 < len(df_happiness_sub_part):\n",
        "         cypher_rows += f'{format_cypher(row)},'\n",
        "      else:\n",
        "         cypher_rows += f'{format_cypher(row)}'\n",
        "      \n",
        "      cont2 += 1\n",
        "\n",
        "   # Formata a query de inserção de registros\n",
        "   cypher_query = f'''\n",
        "   CREATE {cypher_rows}\n",
        "   '''\n",
        "\n",
        "   #print(cypher_query)\n",
        "\n",
        "   # Realiza inserção dos registros no banco de dados\n",
        "   results = data_query_write(cypher_query)\n",
        "   # for record in results:\n",
        "   #    print(record)"
      ]
    },
    {
      "cell_type": "markdown",
      "metadata": {},
      "source": [
        "# Consultando a Quantidade de Registros que Foram Importados no Banco de Dados"
      ]
    },
    {
      "cell_type": "code",
      "execution_count": 199,
      "metadata": {},
      "outputs": [
        {
          "name": "stdout",
          "output_type": "stream",
          "text": [
            "500\n"
          ]
        }
      ],
      "source": [
        "cypher_query = '''\n",
        "MATCH (n)\n",
        "RETURN COUNT(n) AS count\n",
        "'''\n",
        "\n",
        "results = data_query_read(cypher_query)\n",
        "for record in results:\n",
        "        print(record['count'])"
      ]
    },
    {
      "cell_type": "markdown",
      "metadata": {},
      "source": [
        "# Lista os 100 Primeiros Registros que Foram Importados no Banco de Dados"
      ]
    },
    {
      "cell_type": "code",
      "execution_count": 200,
      "metadata": {},
      "outputs": [
        {
          "name": "stdout",
          "output_type": "stream",
          "text": [
            "{'h': {'generosity': 0.168, 'freedom_to_make_life_choices': 0.718, 'life_ladder': 3.724, 'year': 2008, 'healthy_life_expectancy_at_birth': 50.8, 'country_name': 'Afghanistan', 'negative_affect': 0.258, 'social_support': 0.451, 'positive_affect': 0.518, 'log_gdp_per_capita': 7.37, 'perceptions_of_corruption': 0.882}}\n",
            "{'h': {'generosity': 0.19, 'freedom_to_make_life_choices': 0.679, 'life_ladder': 4.402, 'year': 2009, 'healthy_life_expectancy_at_birth': 51.2, 'country_name': 'Afghanistan', 'negative_affect': 0.237, 'social_support': 0.552, 'positive_affect': 0.584, 'log_gdp_per_capita': 7.54, 'perceptions_of_corruption': 0.85}}\n",
            "{'h': {'generosity': 0.121, 'freedom_to_make_life_choices': 0.6, 'life_ladder': 4.758, 'year': 2010, 'healthy_life_expectancy_at_birth': 51.6, 'country_name': 'Afghanistan', 'negative_affect': 0.275, 'social_support': 0.539, 'positive_affect': 0.618, 'log_gdp_per_capita': 7.647, 'perceptions_of_corruption': 0.707}}\n",
            "{'h': {'generosity': 0.162, 'freedom_to_make_life_choices': 0.496, 'life_ladder': 3.832, 'year': 2011, 'healthy_life_expectancy_at_birth': 51.92, 'country_name': 'Afghanistan', 'negative_affect': 0.267, 'social_support': 0.521, 'positive_affect': 0.611, 'log_gdp_per_capita': 7.62, 'perceptions_of_corruption': 0.731}}\n",
            "{'h': {'generosity': 0.236, 'freedom_to_make_life_choices': 0.531, 'life_ladder': 3.783, 'year': 2012, 'healthy_life_expectancy_at_birth': 52.24, 'country_name': 'Afghanistan', 'negative_affect': 0.268, 'social_support': 0.521, 'positive_affect': 0.71, 'log_gdp_per_capita': 7.705, 'perceptions_of_corruption': 0.776}}\n",
            "{'h': {'generosity': 0.061, 'freedom_to_make_life_choices': 0.578, 'life_ladder': 3.572, 'year': 2013, 'healthy_life_expectancy_at_birth': 52.56, 'country_name': 'Afghanistan', 'negative_affect': 0.273, 'social_support': 0.484, 'positive_affect': 0.621, 'log_gdp_per_capita': 7.725, 'perceptions_of_corruption': 0.823}}\n",
            "{'h': {'generosity': 0.104, 'freedom_to_make_life_choices': 0.509, 'life_ladder': 3.131, 'year': 2014, 'healthy_life_expectancy_at_birth': 52.88, 'country_name': 'Afghanistan', 'negative_affect': 0.375, 'social_support': 0.526, 'positive_affect': 0.532, 'log_gdp_per_capita': 7.718, 'perceptions_of_corruption': 0.871}}\n",
            "{'h': {'generosity': 0.08, 'freedom_to_make_life_choices': 0.389, 'life_ladder': 3.983, 'year': 2015, 'healthy_life_expectancy_at_birth': 53.2, 'country_name': 'Afghanistan', 'negative_affect': 0.339, 'social_support': 0.529, 'positive_affect': 0.554, 'log_gdp_per_capita': 7.702, 'perceptions_of_corruption': 0.881}}\n",
            "{'h': {'generosity': 0.042, 'freedom_to_make_life_choices': 0.523, 'life_ladder': 4.22, 'year': 2016, 'healthy_life_expectancy_at_birth': 53.0, 'country_name': 'Afghanistan', 'negative_affect': 0.348, 'social_support': 0.559, 'positive_affect': 0.565, 'log_gdp_per_capita': 7.697, 'perceptions_of_corruption': 0.793}}\n",
            "{'h': {'generosity': -0.121, 'freedom_to_make_life_choices': 0.427, 'life_ladder': 2.662, 'year': 2017, 'healthy_life_expectancy_at_birth': 52.8, 'country_name': 'Afghanistan', 'negative_affect': 0.371, 'social_support': 0.491, 'positive_affect': 0.496, 'log_gdp_per_capita': 7.697, 'perceptions_of_corruption': 0.954}}\n",
            "{'h': {'generosity': -0.094, 'freedom_to_make_life_choices': 0.374, 'life_ladder': 2.694, 'year': 2018, 'healthy_life_expectancy_at_birth': 52.6, 'country_name': 'Afghanistan', 'negative_affect': 0.405, 'social_support': 0.508, 'positive_affect': 0.424, 'log_gdp_per_capita': 7.692, 'perceptions_of_corruption': 0.928}}\n",
            "{'h': {'generosity': -0.108, 'freedom_to_make_life_choices': 0.394, 'life_ladder': 2.375, 'year': 2019, 'healthy_life_expectancy_at_birth': 52.4, 'country_name': 'Afghanistan', 'negative_affect': 0.502, 'social_support': 0.42, 'positive_affect': 0.351, 'log_gdp_per_capita': 7.697, 'perceptions_of_corruption': 0.924}}\n",
            "{'h': {'generosity': -0.009, 'freedom_to_make_life_choices': 0.529, 'life_ladder': 4.634, 'year': 2007, 'healthy_life_expectancy_at_birth': 65.8, 'country_name': 'Albania', 'negative_affect': 0.246, 'social_support': 0.821, 'positive_affect': 0.553, 'log_gdp_per_capita': 9.142, 'perceptions_of_corruption': 0.875}}\n",
            "{'h': {'generosity': -0.158, 'freedom_to_make_life_choices': 0.525, 'life_ladder': 5.485, 'year': 2009, 'healthy_life_expectancy_at_birth': 66.2, 'country_name': 'Albania', 'negative_affect': 0.279, 'social_support': 0.833, 'positive_affect': 0.64, 'log_gdp_per_capita': 9.262, 'perceptions_of_corruption': 0.864}}\n",
            "{'h': {'generosity': -0.172, 'freedom_to_make_life_choices': 0.569, 'life_ladder': 5.269, 'year': 2010, 'healthy_life_expectancy_at_birth': 66.4, 'country_name': 'Albania', 'negative_affect': 0.3, 'social_support': 0.733, 'positive_affect': 0.648, 'log_gdp_per_capita': 9.303, 'perceptions_of_corruption': 0.726}}\n",
            "{'h': {'generosity': -0.205, 'freedom_to_make_life_choices': 0.487, 'life_ladder': 5.867, 'year': 2011, 'healthy_life_expectancy_at_birth': 66.68, 'country_name': 'Albania', 'negative_affect': 0.257, 'social_support': 0.759, 'positive_affect': 0.628, 'log_gdp_per_capita': 9.331, 'perceptions_of_corruption': 0.877}}\n",
            "{'h': {'generosity': -0.169, 'freedom_to_make_life_choices': 0.602, 'life_ladder': 5.51, 'year': 2012, 'healthy_life_expectancy_at_birth': 66.96, 'country_name': 'Albania', 'negative_affect': 0.271, 'social_support': 0.785, 'positive_affect': 0.607, 'log_gdp_per_capita': 9.347, 'perceptions_of_corruption': 0.848}}\n",
            "{'h': {'generosity': -0.127, 'freedom_to_make_life_choices': 0.632, 'life_ladder': 4.551, 'year': 2013, 'healthy_life_expectancy_at_birth': 67.24, 'country_name': 'Albania', 'negative_affect': 0.338, 'social_support': 0.759, 'positive_affect': 0.634, 'log_gdp_per_capita': 9.359, 'perceptions_of_corruption': 0.863}}\n",
            "{'h': {'generosity': -0.025, 'freedom_to_make_life_choices': 0.735, 'life_ladder': 4.814, 'year': 2014, 'healthy_life_expectancy_at_birth': 67.52, 'country_name': 'Albania', 'negative_affect': 0.335, 'social_support': 0.626, 'positive_affect': 0.685, 'log_gdp_per_capita': 9.378, 'perceptions_of_corruption': 0.883}}\n",
            "{'h': {'generosity': -0.081, 'freedom_to_make_life_choices': 0.704, 'life_ladder': 4.607, 'year': 2015, 'healthy_life_expectancy_at_birth': 67.8, 'country_name': 'Albania', 'negative_affect': 0.35, 'social_support': 0.639, 'positive_affect': 0.688, 'log_gdp_per_capita': 9.403, 'perceptions_of_corruption': 0.885}}\n",
            "{'h': {'generosity': -0.017, 'freedom_to_make_life_choices': 0.73, 'life_ladder': 4.511, 'year': 2016, 'healthy_life_expectancy_at_birth': 68.1, 'country_name': 'Albania', 'negative_affect': 0.322, 'social_support': 0.638, 'positive_affect': 0.675, 'log_gdp_per_capita': 9.437, 'perceptions_of_corruption': 0.901}}\n",
            "{'h': {'generosity': -0.029, 'freedom_to_make_life_choices': 0.75, 'life_ladder': 4.64, 'year': 2017, 'healthy_life_expectancy_at_birth': 68.4, 'country_name': 'Albania', 'negative_affect': 0.334, 'social_support': 0.638, 'positive_affect': 0.669, 'log_gdp_per_capita': 9.476, 'perceptions_of_corruption': 0.876}}\n",
            "{'h': {'generosity': 0.009, 'freedom_to_make_life_choices': 0.824, 'life_ladder': 5.004, 'year': 2018, 'healthy_life_expectancy_at_birth': 68.7, 'country_name': 'Albania', 'negative_affect': 0.319, 'social_support': 0.684, 'positive_affect': 0.713, 'log_gdp_per_capita': 9.518, 'perceptions_of_corruption': 0.899}}\n",
            "{'h': {'generosity': -0.099, 'freedom_to_make_life_choices': 0.777, 'life_ladder': 4.995, 'year': 2019, 'healthy_life_expectancy_at_birth': 69.0, 'country_name': 'Albania', 'negative_affect': 0.274, 'social_support': 0.686, 'positive_affect': 0.681, 'log_gdp_per_capita': 9.544, 'perceptions_of_corruption': 0.914}}\n",
            "{'h': {'generosity': 0.007, 'freedom_to_make_life_choices': 0.754, 'life_ladder': 5.365, 'year': 2020, 'healthy_life_expectancy_at_birth': 69.3, 'country_name': 'Albania', 'negative_affect': 0.265, 'social_support': 0.71, 'positive_affect': 0.679, 'log_gdp_per_capita': 9.497, 'perceptions_of_corruption': 0.891}}\n",
            "{'h': {'generosity': -0.205, 'freedom_to_make_life_choices': 0.593, 'life_ladder': 5.464, 'year': 2010, 'healthy_life_expectancy_at_birth': 64.5, 'country_name': 'Algeria', 'negative_affect': 0, 'social_support': 0, 'positive_affect': 0, 'log_gdp_per_capita': 9.287, 'perceptions_of_corruption': 0.618}}\n",
            "{'h': {'generosity': -0.181, 'freedom_to_make_life_choices': 0.53, 'life_ladder': 5.317, 'year': 2011, 'healthy_life_expectancy_at_birth': 64.66, 'country_name': 'Algeria', 'negative_affect': 0.255, 'social_support': 0.81, 'positive_affect': 0.55, 'log_gdp_per_capita': 9.297, 'perceptions_of_corruption': 0.638}}\n",
            "{'h': {'generosity': -0.172, 'freedom_to_make_life_choices': 0.587, 'life_ladder': 5.605, 'year': 2012, 'healthy_life_expectancy_at_birth': 64.82, 'country_name': 'Algeria', 'negative_affect': 0.23, 'social_support': 0.839, 'positive_affect': 0.604, 'log_gdp_per_capita': 9.311, 'perceptions_of_corruption': 0.69}}\n",
            "{'h': {'generosity': 0, 'freedom_to_make_life_choices': 0, 'life_ladder': 6.355, 'year': 2014, 'country_name': 'Algeria', 'healthy_life_expectancy_at_birth': 65.14, 'negative_affect': 0.177, 'social_support': 0.818, 'positive_affect': 0.626, 'log_gdp_per_capita': 9.335, 'perceptions_of_corruption': 0}}\n",
            "{'h': {'generosity': 0, 'freedom_to_make_life_choices': 0, 'life_ladder': 5.341, 'year': 2016, 'country_name': 'Algeria', 'healthy_life_expectancy_at_birth': 65.5, 'negative_affect': 0.377, 'social_support': 0.749, 'positive_affect': 0.661, 'log_gdp_per_capita': 9.362, 'perceptions_of_corruption': 0}}\n",
            "{'h': {'generosity': -0.167, 'freedom_to_make_life_choices': 0.437, 'life_ladder': 5.249, 'year': 2017, 'healthy_life_expectancy_at_birth': 65.7, 'country_name': 'Algeria', 'negative_affect': 0.289, 'social_support': 0.807, 'positive_affect': 0.642, 'log_gdp_per_capita': 9.354, 'perceptions_of_corruption': 0.7}}\n",
            "{'h': {'generosity': -0.146, 'freedom_to_make_life_choices': 0.583, 'life_ladder': 5.043, 'year': 2018, 'healthy_life_expectancy_at_birth': 65.9, 'country_name': 'Algeria', 'negative_affect': 0.293, 'social_support': 0.799, 'positive_affect': 0.591, 'log_gdp_per_capita': 9.348, 'perceptions_of_corruption': 0.759}}\n",
            "{'h': {'generosity': 0.005, 'freedom_to_make_life_choices': 0.385, 'life_ladder': 4.745, 'year': 2019, 'healthy_life_expectancy_at_birth': 66.1, 'country_name': 'Algeria', 'negative_affect': 0.215, 'social_support': 0.803, 'positive_affect': 0.585, 'log_gdp_per_capita': 9.337, 'perceptions_of_corruption': 0.741}}\n",
            "{'h': {'generosity': 0.055, 'freedom_to_make_life_choices': 0.584, 'life_ladder': 5.589, 'year': 2011, 'healthy_life_expectancy_at_birth': 52.5, 'country_name': 'Angola', 'negative_affect': 0.361, 'social_support': 0.723, 'positive_affect': 0.659, 'log_gdp_per_capita': 8.946, 'perceptions_of_corruption': 0.911}}\n",
            "{'h': {'generosity': -0.136, 'freedom_to_make_life_choices': 0.456, 'life_ladder': 4.36, 'year': 2012, 'healthy_life_expectancy_at_birth': 53.2, 'country_name': 'Angola', 'negative_affect': 0.305, 'social_support': 0.753, 'positive_affect': 0.558, 'log_gdp_per_capita': 8.992, 'perceptions_of_corruption': 0.906}}\n",
            "{'h': {'generosity': -0.104, 'freedom_to_make_life_choices': 0.41, 'life_ladder': 3.937, 'year': 2013, 'healthy_life_expectancy_at_birth': 53.9, 'country_name': 'Angola', 'negative_affect': 0.371, 'social_support': 0.722, 'positive_affect': 0.658, 'log_gdp_per_capita': 9.005, 'perceptions_of_corruption': 0.816}}\n",
            "{'h': {'generosity': -0.168, 'freedom_to_make_life_choices': 0.375, 'life_ladder': 3.795, 'year': 2014, 'healthy_life_expectancy_at_birth': 54.6, 'country_name': 'Angola', 'negative_affect': 0.368, 'social_support': 0.755, 'positive_affect': 0.579, 'log_gdp_per_capita': 9.017, 'perceptions_of_corruption': 0.834}}\n",
            "{'h': {'generosity': -0.157, 'freedom_to_make_life_choices': 0.733, 'life_ladder': 6.313, 'year': 2006, 'healthy_life_expectancy_at_birth': 66.82, 'country_name': 'Argentina', 'negative_affect': 0.328, 'social_support': 0.938, 'positive_affect': 0.825, 'log_gdp_per_capita': 9.942, 'perceptions_of_corruption': 0.852}}\n",
            "{'h': {'generosity': -0.141, 'freedom_to_make_life_choices': 0.653, 'life_ladder': 6.073, 'year': 2007, 'healthy_life_expectancy_at_birth': 66.94, 'country_name': 'Argentina', 'negative_affect': 0.279, 'social_support': 0.862, 'positive_affect': 0.828, 'log_gdp_per_capita': 10.018, 'perceptions_of_corruption': 0.881}}\n",
            "{'h': {'generosity': -0.132, 'freedom_to_make_life_choices': 0.678, 'life_ladder': 5.961, 'year': 2008, 'healthy_life_expectancy_at_birth': 67.06, 'country_name': 'Argentina', 'negative_affect': 0.318, 'social_support': 0.892, 'positive_affect': 0.823, 'log_gdp_per_capita': 10.048, 'perceptions_of_corruption': 0.865}}\n",
            "{'h': {'generosity': -0.13, 'freedom_to_make_life_choices': 0.637, 'life_ladder': 6.424, 'year': 2009, 'healthy_life_expectancy_at_birth': 67.18, 'country_name': 'Argentina', 'negative_affect': 0.237, 'social_support': 0.919, 'positive_affect': 0.864, 'log_gdp_per_capita': 9.977, 'perceptions_of_corruption': 0.885}}\n",
            "{'h': {'generosity': -0.126, 'freedom_to_make_life_choices': 0.73, 'life_ladder': 6.441, 'year': 2010, 'healthy_life_expectancy_at_birth': 67.3, 'country_name': 'Argentina', 'negative_affect': 0.211, 'social_support': 0.927, 'positive_affect': 0.846, 'log_gdp_per_capita': 10.066, 'perceptions_of_corruption': 0.855}}\n",
            "{'h': {'generosity': -0.174, 'freedom_to_make_life_choices': 0.816, 'life_ladder': 6.776, 'year': 2011, 'healthy_life_expectancy_at_birth': 67.48, 'country_name': 'Argentina', 'negative_affect': 0.232, 'social_support': 0.889, 'positive_affect': 0.84, 'log_gdp_per_capita': 10.112, 'perceptions_of_corruption': 0.755}}\n",
            "{'h': {'generosity': -0.148, 'freedom_to_make_life_choices': 0.747, 'life_ladder': 6.468, 'year': 2012, 'healthy_life_expectancy_at_birth': 67.66, 'country_name': 'Argentina', 'negative_affect': 0.272, 'social_support': 0.902, 'positive_affect': 0.857, 'log_gdp_per_capita': 10.091, 'perceptions_of_corruption': 0.817}}\n",
            "{'h': {'generosity': -0.13, 'freedom_to_make_life_choices': 0.737, 'life_ladder': 6.582, 'year': 2013, 'healthy_life_expectancy_at_birth': 67.84, 'country_name': 'Argentina', 'negative_affect': 0.254, 'social_support': 0.91, 'positive_affect': 0.842, 'log_gdp_per_capita': 10.103, 'perceptions_of_corruption': 0.823}}\n",
            "{'h': {'generosity': -0.164, 'freedom_to_make_life_choices': 0.745, 'life_ladder': 6.671, 'year': 2014, 'healthy_life_expectancy_at_birth': 68.02, 'country_name': 'Argentina', 'negative_affect': 0.238, 'social_support': 0.918, 'positive_affect': 0.857, 'log_gdp_per_capita': 10.067, 'perceptions_of_corruption': 0.854}}\n",
            "{'h': {'generosity': -0.174, 'freedom_to_make_life_choices': 0.881, 'life_ladder': 6.697, 'year': 2015, 'healthy_life_expectancy_at_birth': 68.2, 'country_name': 'Argentina', 'negative_affect': 0.305, 'social_support': 0.926, 'positive_affect': 0.859, 'log_gdp_per_capita': 10.083, 'perceptions_of_corruption': 0.851}}\n",
            "{'h': {'generosity': -0.192, 'freedom_to_make_life_choices': 0.848, 'life_ladder': 6.427, 'year': 2016, 'healthy_life_expectancy_at_birth': 68.4, 'country_name': 'Argentina', 'negative_affect': 0.312, 'social_support': 0.883, 'positive_affect': 0.842, 'log_gdp_per_capita': 10.051, 'perceptions_of_corruption': 0.851}}\n",
            "{'h': {'generosity': -0.186, 'freedom_to_make_life_choices': 0.832, 'life_ladder': 6.039, 'year': 2017, 'healthy_life_expectancy_at_birth': 68.6, 'country_name': 'Argentina', 'negative_affect': 0.292, 'social_support': 0.907, 'positive_affect': 0.809, 'log_gdp_per_capita': 10.067, 'perceptions_of_corruption': 0.841}}\n",
            "{'h': {'generosity': -0.211, 'freedom_to_make_life_choices': 0.846, 'life_ladder': 5.793, 'year': 2018, 'healthy_life_expectancy_at_birth': 68.8, 'country_name': 'Argentina', 'negative_affect': 0.321, 'social_support': 0.9, 'positive_affect': 0.82, 'log_gdp_per_capita': 10.032, 'perceptions_of_corruption': 0.855}}\n",
            "{'h': {'generosity': -0.211, 'freedom_to_make_life_choices': 0.817, 'life_ladder': 6.086, 'year': 2019, 'healthy_life_expectancy_at_birth': 69.0, 'country_name': 'Argentina', 'negative_affect': 0.319, 'social_support': 0.896, 'positive_affect': 0.826, 'log_gdp_per_capita': 10.0, 'perceptions_of_corruption': 0.83}}\n",
            "{'h': {'generosity': -0.122, 'freedom_to_make_life_choices': 0.823, 'life_ladder': 5.901, 'year': 2020, 'healthy_life_expectancy_at_birth': 69.2, 'country_name': 'Argentina', 'negative_affect': 0.342, 'social_support': 0.897, 'positive_affect': 0.764, 'log_gdp_per_capita': 9.85, 'perceptions_of_corruption': 0.816}}\n",
            "{'h': {'generosity': -0.231, 'freedom_to_make_life_choices': 0.52, 'life_ladder': 4.289, 'year': 2006, 'healthy_life_expectancy_at_birth': 64.8, 'country_name': 'Armenia', 'negative_affect': 0.469, 'social_support': 0.682, 'positive_affect': 0.494, 'log_gdp_per_capita': 9.044, 'perceptions_of_corruption': 0.85}}\n",
            "{'h': {'generosity': -0.251, 'freedom_to_make_life_choices': 0.605, 'life_ladder': 4.882, 'year': 2007, 'healthy_life_expectancy_at_birth': 64.9, 'country_name': 'Armenia', 'negative_affect': 0.412, 'social_support': 0.76, 'positive_affect': 0.507, 'log_gdp_per_capita': 9.181, 'perceptions_of_corruption': 0.817}}\n",
            "{'h': {'generosity': -0.215, 'freedom_to_make_life_choices': 0.462, 'life_ladder': 4.652, 'year': 2008, 'healthy_life_expectancy_at_birth': 65.0, 'country_name': 'Armenia', 'negative_affect': 0.385, 'social_support': 0.709, 'positive_affect': 0.521, 'log_gdp_per_capita': 9.256, 'perceptions_of_corruption': 0.876}}\n",
            "{'h': {'generosity': -0.214, 'freedom_to_make_life_choices': 0.441, 'life_ladder': 4.178, 'year': 2009, 'healthy_life_expectancy_at_birth': 65.1, 'country_name': 'Armenia', 'negative_affect': 0.411, 'social_support': 0.68, 'positive_affect': 0.543, 'log_gdp_per_capita': 9.111, 'perceptions_of_corruption': 0.882}}\n",
            "{'h': {'generosity': -0.176, 'freedom_to_make_life_choices': 0.459, 'life_ladder': 4.368, 'year': 2010, 'healthy_life_expectancy_at_birth': 65.2, 'country_name': 'Armenia', 'negative_affect': 0.426, 'social_support': 0.66, 'positive_affect': 0.51, 'log_gdp_per_capita': 9.136, 'perceptions_of_corruption': 0.891}}\n",
            "{'h': {'generosity': -0.225, 'freedom_to_make_life_choices': 0.465, 'life_ladder': 4.26, 'year': 2011, 'healthy_life_expectancy_at_birth': 65.36, 'country_name': 'Armenia', 'negative_affect': 0.459, 'social_support': 0.705, 'positive_affect': 0.475, 'log_gdp_per_capita': 9.182, 'perceptions_of_corruption': 0.875}}\n",
            "{'h': {'generosity': -0.215, 'freedom_to_make_life_choices': 0.502, 'life_ladder': 4.32, 'year': 2012, 'healthy_life_expectancy_at_birth': 65.52, 'country_name': 'Armenia', 'negative_affect': 0.464, 'social_support': 0.676, 'positive_affect': 0.518, 'log_gdp_per_capita': 9.249, 'perceptions_of_corruption': 0.893}}\n",
            "{'h': {'generosity': -0.195, 'freedom_to_make_life_choices': 0.504, 'life_ladder': 4.277, 'year': 2013, 'healthy_life_expectancy_at_birth': 65.68, 'country_name': 'Armenia', 'negative_affect': 0.45, 'social_support': 0.723, 'positive_affect': 0.562, 'log_gdp_per_capita': 9.277, 'perceptions_of_corruption': 0.9}}\n",
            "{'h': {'generosity': -0.218, 'freedom_to_make_life_choices': 0.506, 'life_ladder': 4.453, 'year': 2014, 'healthy_life_expectancy_at_birth': 65.84, 'country_name': 'Armenia', 'negative_affect': 0.404, 'social_support': 0.739, 'positive_affect': 0.581, 'log_gdp_per_capita': 9.307, 'perceptions_of_corruption': 0.92}}\n",
            "{'h': {'generosity': -0.203, 'freedom_to_make_life_choices': 0.551, 'life_ladder': 4.348, 'year': 2015, 'healthy_life_expectancy_at_birth': 66.0, 'country_name': 'Armenia', 'negative_affect': 0.438, 'social_support': 0.723, 'positive_affect': 0.594, 'log_gdp_per_capita': 9.334, 'perceptions_of_corruption': 0.901}}\n",
            "{'h': {'generosity': -0.17, 'freedom_to_make_life_choices': 0.611, 'life_ladder': 4.325, 'year': 2016, 'healthy_life_expectancy_at_birth': 66.3, 'country_name': 'Armenia', 'negative_affect': 0.437, 'social_support': 0.709, 'positive_affect': 0.594, 'log_gdp_per_capita': 9.333, 'perceptions_of_corruption': 0.921}}\n",
            "{'h': {'generosity': -0.147, 'freedom_to_make_life_choices': 0.614, 'life_ladder': 4.288, 'year': 2017, 'healthy_life_expectancy_at_birth': 66.6, 'country_name': 'Armenia', 'negative_affect': 0.437, 'social_support': 0.698, 'positive_affect': 0.625, 'log_gdp_per_capita': 9.402, 'perceptions_of_corruption': 0.865}}\n",
            "{'h': {'generosity': -0.163, 'freedom_to_make_life_choices': 0.808, 'life_ladder': 5.062, 'year': 2018, 'healthy_life_expectancy_at_birth': 66.9, 'country_name': 'Armenia', 'negative_affect': 0.455, 'social_support': 0.814, 'positive_affect': 0.581, 'log_gdp_per_capita': 9.451, 'perceptions_of_corruption': 0.677}}\n",
            "{'h': {'generosity': -0.172, 'freedom_to_make_life_choices': 0.844, 'life_ladder': 5.488, 'year': 2019, 'healthy_life_expectancy_at_birth': 67.2, 'country_name': 'Armenia', 'negative_affect': 0.43, 'social_support': 0.782, 'positive_affect': 0.598, 'log_gdp_per_capita': 9.522, 'perceptions_of_corruption': 0.583}}\n",
            "{'h': {'generosity': 0, 'freedom_to_make_life_choices': 0.935, 'life_ladder': 7.341, 'year': 2005, 'country_name': 'Australia', 'healthy_life_expectancy_at_birth': 71.4, 'negative_affect': 0.238, 'social_support': 0.968, 'positive_affect': 0.843, 'log_gdp_per_capita': 10.659, 'perceptions_of_corruption': 0.39}}\n",
            "{'h': {'generosity': 0.347, 'freedom_to_make_life_choices': 0.891, 'life_ladder': 7.285, 'year': 2007, 'healthy_life_expectancy_at_birth': 71.72, 'country_name': 'Australia', 'negative_affect': 0.215, 'social_support': 0.965, 'positive_affect': 0.826, 'log_gdp_per_capita': 10.703, 'perceptions_of_corruption': 0.513}}\n",
            "{'h': {'generosity': 0.305, 'freedom_to_make_life_choices': 0.916, 'life_ladder': 7.254, 'year': 2008, 'healthy_life_expectancy_at_birth': 71.88, 'country_name': 'Australia', 'negative_affect': 0.218, 'social_support': 0.947, 'positive_affect': 0.826, 'log_gdp_per_capita': 10.719, 'perceptions_of_corruption': 0.431}}\n",
            "{'h': {'generosity': 0.317, 'freedom_to_make_life_choices': 0.932, 'life_ladder': 7.45, 'year': 2010, 'healthy_life_expectancy_at_birth': 72.2, 'country_name': 'Australia', 'negative_affect': 0.22, 'social_support': 0.955, 'positive_affect': 0.834, 'log_gdp_per_capita': 10.722, 'perceptions_of_corruption': 0.366}}\n",
            "{'h': {'generosity': 0.369, 'freedom_to_make_life_choices': 0.945, 'life_ladder': 7.406, 'year': 2011, 'healthy_life_expectancy_at_birth': 72.3, 'country_name': 'Australia', 'negative_affect': 0.195, 'social_support': 0.967, 'positive_affect': 0.816, 'log_gdp_per_capita': 10.733, 'perceptions_of_corruption': 0.382}}\n",
            "{'h': {'generosity': 0.274, 'freedom_to_make_life_choices': 0.935, 'life_ladder': 7.196, 'year': 2012, 'healthy_life_expectancy_at_birth': 72.4, 'country_name': 'Australia', 'negative_affect': 0.214, 'social_support': 0.945, 'positive_affect': 0.811, 'log_gdp_per_capita': 10.754, 'perceptions_of_corruption': 0.368}}\n",
            "{'h': {'generosity': 0.269, 'freedom_to_make_life_choices': 0.933, 'life_ladder': 7.364, 'year': 2013, 'healthy_life_expectancy_at_birth': 72.5, 'country_name': 'Australia', 'negative_affect': 0.177, 'social_support': 0.928, 'positive_affect': 0.819, 'log_gdp_per_capita': 10.762, 'perceptions_of_corruption': 0.432}}\n",
            "{'h': {'generosity': 0.319, 'freedom_to_make_life_choices': 0.923, 'life_ladder': 7.289, 'year': 2014, 'healthy_life_expectancy_at_birth': 72.6, 'country_name': 'Australia', 'negative_affect': 0.245, 'social_support': 0.924, 'positive_affect': 0.775, 'log_gdp_per_capita': 10.772, 'perceptions_of_corruption': 0.442}}\n",
            "{'h': {'generosity': 0.332, 'freedom_to_make_life_choices': 0.922, 'life_ladder': 7.309, 'year': 2015, 'healthy_life_expectancy_at_birth': 72.7, 'country_name': 'Australia', 'negative_affect': 0.21, 'social_support': 0.952, 'positive_affect': 0.79, 'log_gdp_per_capita': 10.779, 'perceptions_of_corruption': 0.357}}\n",
            "{'h': {'generosity': 0.239, 'freedom_to_make_life_choices': 0.922, 'life_ladder': 7.25, 'year': 2016, 'healthy_life_expectancy_at_birth': 73.0, 'country_name': 'Australia', 'negative_affect': 0.236, 'social_support': 0.942, 'positive_affect': 0.791, 'log_gdp_per_capita': 10.791, 'perceptions_of_corruption': 0.399}}\n",
            "{'h': {'generosity': 0.317, 'freedom_to_make_life_choices': 0.911, 'life_ladder': 7.257, 'year': 2017, 'healthy_life_expectancy_at_birth': 73.3, 'country_name': 'Australia', 'negative_affect': 0.225, 'social_support': 0.95, 'positive_affect': 0.78, 'log_gdp_per_capita': 10.798, 'perceptions_of_corruption': 0.411}}\n",
            "{'h': {'generosity': 0.146, 'freedom_to_make_life_choices': 0.916, 'life_ladder': 7.177, 'year': 2018, 'healthy_life_expectancy_at_birth': 73.6, 'country_name': 'Australia', 'negative_affect': 0.187, 'social_support': 0.94, 'positive_affect': 0.759, 'log_gdp_per_capita': 10.811, 'perceptions_of_corruption': 0.405}}\n",
            "{'h': {'generosity': 0.121, 'freedom_to_make_life_choices': 0.918, 'life_ladder': 7.234, 'year': 2019, 'healthy_life_expectancy_at_birth': 73.9, 'country_name': 'Australia', 'negative_affect': 0.202, 'social_support': 0.943, 'positive_affect': 0.77, 'log_gdp_per_capita': 10.815, 'perceptions_of_corruption': 0.43}}\n",
            "{'h': {'generosity': 0.21, 'freedom_to_make_life_choices': 0.905, 'life_ladder': 7.137, 'year': 2020, 'healthy_life_expectancy_at_birth': 74.2, 'country_name': 'Australia', 'negative_affect': 0.205, 'social_support': 0.937, 'positive_affect': 0.769, 'log_gdp_per_capita': 10.76, 'perceptions_of_corruption': 0.491}}\n",
            "{'h': {'generosity': 0.302, 'freedom_to_make_life_choices': 0.941, 'life_ladder': 7.122, 'year': 2006, 'healthy_life_expectancy_at_birth': 70.76, 'country_name': 'Austria', 'negative_affect': 0.174, 'social_support': 0.936, 'positive_affect': 0.823, 'log_gdp_per_capita': 10.842, 'perceptions_of_corruption': 0.49}}\n",
            "{'h': {'generosity': 0.291, 'freedom_to_make_life_choices': 0.879, 'life_ladder': 7.181, 'year': 2008, 'healthy_life_expectancy_at_birth': 71.08, 'country_name': 'Austria', 'negative_affect': 0.173, 'social_support': 0.935, 'positive_affect': 0.832, 'log_gdp_per_capita': 10.887, 'perceptions_of_corruption': 0.614}}\n",
            "{'h': {'generosity': 0.131, 'freedom_to_make_life_choices': 0.896, 'life_ladder': 7.303, 'year': 2010, 'healthy_life_expectancy_at_birth': 71.4, 'country_name': 'Austria', 'negative_affect': 0.156, 'social_support': 0.914, 'positive_affect': 0.815, 'log_gdp_per_capita': 10.861, 'perceptions_of_corruption': 0.546}}\n",
            "{'h': {'generosity': 0.132, 'freedom_to_make_life_choices': 0.939, 'life_ladder': 7.471, 'year': 2011, 'healthy_life_expectancy_at_birth': 71.54, 'country_name': 'Austria', 'negative_affect': 0.145, 'social_support': 0.944, 'positive_affect': 0.789, 'log_gdp_per_capita': 10.887, 'perceptions_of_corruption': 0.703}}\n",
            "{'h': {'generosity': 0.118, 'freedom_to_make_life_choices': 0.92, 'life_ladder': 7.401, 'year': 2012, 'healthy_life_expectancy_at_birth': 71.68, 'country_name': 'Austria', 'negative_affect': 0.157, 'social_support': 0.945, 'positive_affect': 0.822, 'log_gdp_per_capita': 10.889, 'perceptions_of_corruption': 0.771}}\n",
            "{'h': {'generosity': 0.168, 'freedom_to_make_life_choices': 0.922, 'life_ladder': 7.499, 'year': 2013, 'healthy_life_expectancy_at_birth': 71.82, 'country_name': 'Austria', 'negative_affect': 0.163, 'social_support': 0.95, 'positive_affect': 0.787, 'log_gdp_per_capita': 10.883, 'perceptions_of_corruption': 0.679}}\n",
            "{'h': {'generosity': 0.118, 'freedom_to_make_life_choices': 0.885, 'life_ladder': 6.95, 'year': 2014, 'healthy_life_expectancy_at_birth': 71.96, 'country_name': 'Austria', 'negative_affect': 0.17, 'social_support': 0.899, 'positive_affect': 0.78, 'log_gdp_per_capita': 10.882, 'perceptions_of_corruption': 0.567}}\n",
            "{'h': {'generosity': 0.099, 'freedom_to_make_life_choices': 0.9, 'life_ladder': 7.076, 'year': 2015, 'healthy_life_expectancy_at_birth': 72.1, 'country_name': 'Austria', 'negative_affect': 0.164, 'social_support': 0.928, 'positive_affect': 0.798, 'log_gdp_per_capita': 10.881, 'perceptions_of_corruption': 0.557}}\n",
            "{'h': {'generosity': 0.08, 'freedom_to_make_life_choices': 0.889, 'life_ladder': 7.048, 'year': 2016, 'healthy_life_expectancy_at_birth': 72.4, 'country_name': 'Austria', 'negative_affect': 0.197, 'social_support': 0.926, 'positive_affect': 0.756, 'log_gdp_per_capita': 10.891, 'perceptions_of_corruption': 0.524}}\n",
            "{'h': {'generosity': 0.133, 'freedom_to_make_life_choices': 0.89, 'life_ladder': 7.294, 'year': 2017, 'healthy_life_expectancy_at_birth': 72.7, 'country_name': 'Austria', 'negative_affect': 0.18, 'social_support': 0.906, 'positive_affect': 0.748, 'log_gdp_per_capita': 10.908, 'perceptions_of_corruption': 0.518}}\n",
            "{'h': {'generosity': 0.053, 'freedom_to_make_life_choices': 0.904, 'life_ladder': 7.396, 'year': 2018, 'healthy_life_expectancy_at_birth': 73.0, 'country_name': 'Austria', 'negative_affect': 0.226, 'social_support': 0.912, 'positive_affect': 0.752, 'log_gdp_per_capita': 10.928, 'perceptions_of_corruption': 0.523}}\n",
            "{'h': {'generosity': 0.06, 'freedom_to_make_life_choices': 0.903, 'life_ladder': 7.195, 'year': 2019, 'healthy_life_expectancy_at_birth': 73.3, 'country_name': 'Austria', 'negative_affect': 0.205, 'social_support': 0.964, 'positive_affect': 0.774, 'log_gdp_per_capita': 10.939, 'perceptions_of_corruption': 0.457}}\n",
            "{'h': {'generosity': 0.011, 'freedom_to_make_life_choices': 0.912, 'life_ladder': 7.213, 'year': 2020, 'healthy_life_expectancy_at_birth': 73.6, 'country_name': 'Austria', 'negative_affect': 0.206, 'social_support': 0.925, 'positive_affect': 0.769, 'log_gdp_per_capita': 10.851, 'perceptions_of_corruption': 0.464}}\n",
            "{'h': {'generosity': -0.235, 'freedom_to_make_life_choices': 0.772, 'life_ladder': 4.728, 'year': 2006, 'healthy_life_expectancy_at_birth': 61.88, 'country_name': 'Azerbaijan', 'negative_affect': 0.276, 'social_support': 0.854, 'positive_affect': 0.512, 'log_gdp_per_capita': 9.17, 'perceptions_of_corruption': 0.774}}\n",
            "{'h': {'generosity': -0.207, 'freedom_to_make_life_choices': 0.522, 'life_ladder': 4.568, 'year': 2007, 'healthy_life_expectancy_at_birth': 62.26, 'country_name': 'Azerbaijan', 'negative_affect': 0.284, 'social_support': 0.753, 'positive_affect': 0.521, 'log_gdp_per_capita': 9.386, 'perceptions_of_corruption': 0.871}}\n",
            "{'h': {'generosity': -0.029, 'freedom_to_make_life_choices': 0.601, 'life_ladder': 4.817, 'year': 2008, 'healthy_life_expectancy_at_birth': 62.64, 'country_name': 'Azerbaijan', 'negative_affect': 0.227, 'social_support': 0.684, 'positive_affect': 0.578, 'log_gdp_per_capita': 9.465, 'perceptions_of_corruption': 0.715}}\n",
            "{'h': {'generosity': -0.087, 'freedom_to_make_life_choices': 0.498, 'life_ladder': 4.574, 'year': 2009, 'healthy_life_expectancy_at_birth': 63.02, 'country_name': 'Azerbaijan', 'negative_affect': 0.234, 'social_support': 0.736, 'positive_affect': 0.544, 'log_gdp_per_capita': 9.534, 'perceptions_of_corruption': 0.754}}\n",
            "{'h': {'generosity': -0.123, 'freedom_to_make_life_choices': 0.501, 'life_ladder': 4.219, 'year': 2010, 'healthy_life_expectancy_at_birth': 63.4, 'country_name': 'Azerbaijan', 'negative_affect': 0.272, 'social_support': 0.687, 'positive_affect': 0.527, 'log_gdp_per_capita': 9.569, 'perceptions_of_corruption': 0.858}}\n",
            "{'h': {'generosity': -0.105, 'freedom_to_make_life_choices': 0.537, 'life_ladder': 4.68, 'year': 2011, 'healthy_life_expectancy_at_birth': 63.64, 'country_name': 'Azerbaijan', 'negative_affect': 0.258, 'social_support': 0.725, 'positive_affect': 0.536, 'log_gdp_per_capita': 9.54, 'perceptions_of_corruption': 0.795}}\n",
            "{'h': {'generosity': -0.14, 'freedom_to_make_life_choices': 0.599, 'life_ladder': 4.911, 'year': 2012, 'healthy_life_expectancy_at_birth': 63.88, 'country_name': 'Azerbaijan', 'negative_affect': 0.266, 'social_support': 0.762, 'positive_affect': 0.554, 'log_gdp_per_capita': 9.549, 'perceptions_of_corruption': 0.763}}\n"
          ]
        }
      ],
      "source": [
        "cypher_query = '''\n",
        "MATCH (h:Happiness)\n",
        "RETURN h\n",
        "LIMIT 100\n",
        "'''\n",
        "\n",
        "results = data_query_read(cypher_query)\n",
        "for record in results:\n",
        "  print(record)"
      ]
    }
  ],
  "metadata": {
    "celltoolbar": "Edit Metadata",
    "colab": {
      "collapsed_sections": [],
      "name": "PL_Python_4.ipynb",
      "provenance": []
    },
    "interpreter": {
      "hash": "70d1a5962a0e28f147db1e2bbfb693e8a0238b64f5d898ce29ee642d18a27e2c"
    },
    "kernelspec": {
      "display_name": "Python 3.9.12 ('base')",
      "language": "python",
      "name": "python3"
    },
    "language_info": {
      "codemirror_mode": {
        "name": "ipython",
        "version": 3
      },
      "file_extension": ".py",
      "mimetype": "text/x-python",
      "name": "python",
      "nbconvert_exporter": "python",
      "pygments_lexer": "ipython3",
      "version": "3.9.12"
    }
  },
  "nbformat": 4,
  "nbformat_minor": 0
}
